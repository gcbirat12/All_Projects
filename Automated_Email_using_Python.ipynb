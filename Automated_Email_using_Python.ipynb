{
  "nbformat": 4,
  "nbformat_minor": 0,
  "metadata": {
    "colab": {
      "provenance": [],
      "authorship_tag": "ABX9TyOuSbM3SwRrZu3ZcrWtMJHC",
      "include_colab_link": true
    },
    "kernelspec": {
      "name": "python3",
      "display_name": "Python 3"
    },
    "language_info": {
      "name": "python"
    }
  },
  "cells": [
    {
      "cell_type": "markdown",
      "metadata": {
        "id": "view-in-github",
        "colab_type": "text"
      },
      "source": [
        "<a href=\"https://colab.research.google.com/github/gcbirat12/Projects/blob/main/Automated_Email_using_Python.ipynb\" target=\"_parent\"><img src=\"https://colab.research.google.com/assets/colab-badge.svg\" alt=\"Open In Colab\"/></a>"
      ]
    },
    {
      "cell_type": "code",
      "execution_count": 4,
      "metadata": {
        "colab": {
          "base_uri": "https://localhost:8080/"
        },
        "id": "zTsTp6MwewRN",
        "outputId": "fa6f5fcf-2afb-4fb5-a2bb-c794a93fcbf2"
      },
      "outputs": [
        {
          "output_type": "stream",
          "name": "stdout",
          "text": [
            "Email sent successfully.\n"
          ]
        }
      ],
      "source": [
        "import smtplib\n",
        "from email.mime.multipart import MIMEMultipart\n",
        "from email.mime.text import MIMEText\n",
        "\n",
        "# Email configuration\n",
        "sender_email = \"youremail@gmail.com\"\n",
        "sender_password = \"yourpassword\" #google uses apppassword to save user email and password\n",
        "receiver_email = \"biratgc977@gmail.com\"\n",
        "subject = \"Automated Email\"\n",
        "message = \"This is an automated email sent from Google Colab.\"\n",
        "\n",
        "# Create the email content\n",
        "msg = MIMEMultipart()\n",
        "msg['From'] = sender_email\n",
        "msg['To'] = receiver_email\n",
        "msg['Subject'] = subject\n",
        "msg.attach(MIMEText(message, 'plain'))\n",
        "\n",
        "# Connect to Gmail's SMTP server\n",
        "server = smtplib.SMTP('smtp.gmail.com', 587)\n",
        "server.starttls()\n",
        "server.login(sender_email, sender_password)\n",
        "\n",
        "# Send the email\n",
        "server.sendmail(sender_email, receiver_email, msg.as_string())\n",
        "\n",
        "# Disconnect from the server\n",
        "server.quit()\n",
        "\n",
        "print(\"Email sent successfully.\")\n"
      ]
    }
  ]
}
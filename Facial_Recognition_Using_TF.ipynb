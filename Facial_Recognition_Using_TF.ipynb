{
  "nbformat": 4,
  "nbformat_minor": 0,
  "metadata": {
    "colab": {
      "provenance": [],
      "gpuType": "T4",
      "authorship_tag": "ABX9TyOcD2thvhhl9Wa0CM7H6TLd",
      "include_colab_link": true
    },
    "kernelspec": {
      "name": "python3",
      "display_name": "Python 3"
    },
    "language_info": {
      "name": "python"
    },
    "accelerator": "GPU",
    "gpuClass": "standard"
  },
  "cells": [
    {
      "cell_type": "markdown",
      "metadata": {
        "id": "view-in-github",
        "colab_type": "text"
      },
      "source": [
        "<a href=\"https://colab.research.google.com/github/gcbirat12/Projects/blob/main/Facial_Recognition_Using_TF.ipynb\" target=\"_parent\"><img src=\"https://colab.research.google.com/assets/colab-badge.svg\" alt=\"Open In Colab\"/></a>"
      ]
    },
    {
      "cell_type": "code",
      "execution_count": 1,
      "metadata": {
        "colab": {
          "base_uri": "https://localhost:8080/"
        },
        "id": "qWLBmbGUhhrL",
        "outputId": "2de7add2-5067-448d-b3e5-3be8fc67d290"
      },
      "outputs": [
        {
          "output_type": "stream",
          "name": "stdout",
          "text": [
            "Looking in indexes: https://pypi.org/simple, https://us-python.pkg.dev/colab-wheels/public/simple/\n",
            "Collecting face_recognition\n",
            "  Downloading face_recognition-1.3.0-py2.py3-none-any.whl (15 kB)\n",
            "Collecting face-recognition-models>=0.3.0 (from face_recognition)\n",
            "  Downloading face_recognition_models-0.3.0.tar.gz (100.1 MB)\n",
            "\u001b[2K     \u001b[90m━━━━━━━━━━━━━━━━━━━━━━━━━━━━━━━━━━━━━━━\u001b[0m \u001b[32m100.1/100.1 MB\u001b[0m \u001b[31m7.3 MB/s\u001b[0m eta \u001b[36m0:00:00\u001b[0m\n",
            "\u001b[?25h  Preparing metadata (setup.py) ... \u001b[?25l\u001b[?25hdone\n",
            "Requirement already satisfied: Click>=6.0 in /usr/local/lib/python3.10/dist-packages (from face_recognition) (8.1.3)\n",
            "Requirement already satisfied: dlib>=19.7 in /usr/local/lib/python3.10/dist-packages (from face_recognition) (19.24.1)\n",
            "Requirement already satisfied: numpy in /usr/local/lib/python3.10/dist-packages (from face_recognition) (1.22.4)\n",
            "Requirement already satisfied: Pillow in /usr/local/lib/python3.10/dist-packages (from face_recognition) (8.4.0)\n",
            "Building wheels for collected packages: face-recognition-models\n",
            "  Building wheel for face-recognition-models (setup.py) ... \u001b[?25l\u001b[?25hdone\n",
            "  Created wheel for face-recognition-models: filename=face_recognition_models-0.3.0-py2.py3-none-any.whl size=100566173 sha256=eacfd18b780dbc10e86d8fddfda7322dfc9f5072d8ca6f076447286135ea1c7a\n",
            "  Stored in directory: /root/.cache/pip/wheels/7a/eb/cf/e9eced74122b679557f597bb7c8e4c739cfcac526db1fd523d\n",
            "Successfully built face-recognition-models\n",
            "Installing collected packages: face-recognition-models, face_recognition\n",
            "Successfully installed face-recognition-models-0.3.0 face_recognition-1.3.0\n"
          ]
        }
      ],
      "source": [
        "!pip install face_recognition"
      ]
    },
    {
      "cell_type": "code",
      "source": [
        "from google.colab import drive\n",
        "drive.mount('/content/drive')"
      ],
      "metadata": {
        "colab": {
          "base_uri": "https://localhost:8080/"
        },
        "id": "LKQsbJYF34E9",
        "outputId": "bf2c98a8-b913-4ef1-d902-613f7802c197"
      },
      "execution_count": 16,
      "outputs": [
        {
          "output_type": "stream",
          "name": "stdout",
          "text": [
            "Mounted at /content/drive\n"
          ]
        }
      ]
    },
    {
      "cell_type": "code",
      "source": [
        "import face_recognition"
      ],
      "metadata": {
        "id": "ff1ckBqT5MTX"
      },
      "execution_count": 13,
      "outputs": []
    },
    {
      "cell_type": "code",
      "source": [
        "\n",
        "import os\n",
        "import cv2\n",
        "\n",
        "KNOWN_FACES_DIR = '/content/drive/MyDrive/known_faces/'\n",
        "UNKNOWN_FACES_DIR = '/content/drive/MyDrive/unknown_faces/'\n",
        "TOLERANCE = 0.6\n",
        "\n",
        "\n",
        "FRAME_THICKNESS = 3\n",
        "FONT_THICKNESS =2\n",
        "MODEL = \"cnn\" # or hog can be used"
      ],
      "metadata": {
        "id": "cIVIUamCjyme"
      },
      "execution_count": 20,
      "outputs": []
    },
    {
      "cell_type": "code",
      "source": [
        "print('Loading known faces...')\n",
        "known_faces = []\n",
        "known_names = []"
      ],
      "metadata": {
        "colab": {
          "base_uri": "https://localhost:8080/"
        },
        "id": "iDEJDKV_9aIs",
        "outputId": "179bda76-a2d4-4306-937b-cdd3f9bc0d88"
      },
      "execution_count": 21,
      "outputs": [
        {
          "output_type": "stream",
          "name": "stdout",
          "text": [
            "Loading known faces...\n"
          ]
        }
      ]
    },
    {
      "cell_type": "code",
      "source": [
        "for name in os.listdir(KNOWN_FACES_DIR):\n",
        "\n",
        "    \n",
        "    for filename in os.listdir(f'{KNOWN_FACES_DIR}/{name}'):\n",
        "\n",
        "        # Load an image\n",
        "        image = face_recognition.load_image_file(f'{KNOWN_FACES_DIR}/{name}/{filename}')\n"
      ],
      "metadata": {
        "id": "RG0AU9ti9aJO"
      },
      "execution_count": 22,
      "outputs": []
    },
    {
      "cell_type": "code",
      "source": [
        "for name in os.listdir(KNOWN_FACES_DIR):\n",
        "\n",
        "    \n",
        "    for filename in os.listdir(f'{KNOWN_FACES_DIR}/{name}'):\n",
        "\n",
        "        # Load an image\n",
        "        image = face_recognition.load_image_file(f'{KNOWN_FACES_DIR}/{name}/{filename}')\n",
        "\n",
        "       \n",
        "        encoding = face_recognition.face_encodings(image)[0]\n",
        "\n",
        "       \n",
        "        known_faces.append(encoding)\n",
        "        known_names.append(name)"
      ],
      "metadata": {
        "id": "PNvmqxSz9amV"
      },
      "execution_count": 23,
      "outputs": []
    },
    {
      "cell_type": "code",
      "source": [
        "print('Processing unknown faces...')\n",
        "\n",
        "for filename in os.listdir(UNKNOWN_FACES_DIR):\n",
        "\n",
        "   \n",
        "    print(f'Filename {filename}', end='')\n",
        "    image = face_recognition.load_image_file(f'{UNKNOWN_FACES_DIR}/{filename}')"
      ],
      "metadata": {
        "colab": {
          "base_uri": "https://localhost:8080/"
        },
        "id": "Ta9WrCmY9aoz",
        "outputId": "8f10c983-0b34-4dae-d3eb-e25f2d5f81ab"
      },
      "execution_count": 26,
      "outputs": [
        {
          "output_type": "stream",
          "name": "stdout",
          "text": [
            "Processing unknown faces...\n",
            "Filename 1.jpegFilename 2.jpegFilename 3.jpegFilename 4.jpegFilename 5.jpegFilename 6.jpegFilename 7.jpegFilename 8.jpegFilename 9.jpeg"
          ]
        }
      ]
    },
    {
      "cell_type": "code",
      "source": [
        "locations = face_recognition.face_locations(image, model=MODEL)\n"
      ],
      "metadata": {
        "id": "Sv-7ZaVn9arr"
      },
      "execution_count": 27,
      "outputs": []
    },
    {
      "cell_type": "code",
      "source": [
        "encodings = face_recognition.face_encodings(image, locations)"
      ],
      "metadata": {
        "id": "ykJHzna7_X9U"
      },
      "execution_count": 28,
      "outputs": []
    },
    {
      "cell_type": "code",
      "source": [
        "image = cv2.cvtColor(image, cv2.COLOR_RGB2BGR)"
      ],
      "metadata": {
        "id": "fpOf65O0_aPR"
      },
      "execution_count": 29,
      "outputs": []
    },
    {
      "cell_type": "code",
      "source": [
        "print('Processing unknown faces...')\n",
        "\n",
        "for filename in os.listdir(UNKNOWN_FACES_DIR):\n",
        "\n",
        "    \n",
        "    print(f'Filename {filename}', end='')\n",
        "    image = face_recognition.load_image_file(f'{UNKNOWN_FACES_DIR}/{filename}')\n",
        "\n",
        "\n",
        "    locations = face_recognition.face_locations(image, model=MODEL)\n",
        "\n",
        "    \n",
        "    encodings = face_recognition.face_encodings(image, locations)\n",
        "\n",
        "\n",
        "    image = cv2.cvtColor(image, cv2.COLOR_RGB2BGR)\n"
      ],
      "metadata": {
        "colab": {
          "base_uri": "https://localhost:8080/"
        },
        "id": "mSD36mBv_com",
        "outputId": "f234c4c6-1f9e-4f0c-e773-6ad7018d3b4d"
      },
      "execution_count": 30,
      "outputs": [
        {
          "output_type": "stream",
          "name": "stdout",
          "text": [
            "Processing unknown faces...\n",
            "Filename 1.jpegFilename 2.jpegFilename 3.jpegFilename 4.jpegFilename 5.jpegFilename 6.jpegFilename 7.jpegFilename 8.jpegFilename 9.jpeg"
          ]
        }
      ]
    },
    {
      "cell_type": "code",
      "source": [
        "print('Processing unknown faces...')\n",
        "for filename in os.listdir(UNKNOWN_FACES_DIR):\n",
        "\n",
        "\n",
        "    print(f'Filename {filename}', end='')\n",
        "    image = face_recognition.load_image_file(f'{UNKNOWN_FACES_DIR}/{filename}')\n",
        "\n",
        "\n",
        "    locations = face_recognition.face_locations(image, model=MODEL)\n",
        "\n",
        "    encodings = face_recognition.face_encodings(image, locations)\n",
        "\n",
        "    image = cv2.cvtColor(image, cv2.COLOR_RGB2BGR)\n",
        "\n",
        "    print(f', found {len(encodings)} face(s)')\n",
        "    for face_encoding, face_location in zip(encodings, locations):\n",
        "\n",
        "   \n",
        "        results = face_recognition.compare_faces(known_faces, face_encoding, TOLERANCE)"
      ],
      "metadata": {
        "colab": {
          "base_uri": "https://localhost:8080/"
        },
        "id": "yjH4VqWU_m5z",
        "outputId": "f646f70d-5e21-4ca0-95da-5ed27f676fdb"
      },
      "execution_count": 34,
      "outputs": [
        {
          "output_type": "stream",
          "name": "stdout",
          "text": [
            "Processing unknown faces...\n",
            "Filename 1.jpeg, found 1 face(s)\n",
            "Filename 2.jpeg, found 1 face(s)\n",
            "Filename 3.jpeg, found 1 face(s)\n",
            "Filename 4.jpeg, found 11 face(s)\n",
            "Filename 5.jpeg, found 2 face(s)\n",
            "Filename 6.jpeg, found 0 face(s)\n",
            "Filename 7.jpeg, found 1 face(s)\n",
            "Filename 8.jpeg, found 1 face(s)\n",
            "Filename 9.jpeg, found 1 face(s)\n"
          ]
        }
      ]
    },
    {
      "cell_type": "code",
      "source": [
        "print(results)"
      ],
      "metadata": {
        "colab": {
          "base_uri": "https://localhost:8080/"
        },
        "id": "1qCwi9y4_opu",
        "outputId": "fd0d4a92-56d7-41ea-829a-a24da3f74600"
      },
      "execution_count": 36,
      "outputs": [
        {
          "output_type": "stream",
          "name": "stdout",
          "text": [
            "[False, False, False]\n"
          ]
        }
      ]
    },
    {
      "cell_type": "code",
      "source": [
        "match = known_names[results.index(False)]\n",
        "print(match)"
      ],
      "metadata": {
        "colab": {
          "base_uri": "https://localhost:8080/"
        },
        "id": "su-ybPv5_tvp",
        "outputId": "27d56404-15ad-43d6-ca37-f1237f725cf6"
      },
      "execution_count": 38,
      "outputs": [
        {
          "output_type": "stream",
          "name": "stdout",
          "text": [
            "Person1\n"
          ]
        }
      ]
    },
    {
      "cell_type": "code",
      "source": [
        "color = [(ord(c.lower())-97)*8 for c in match[:3]]\n"
      ],
      "metadata": {
        "id": "xI6uTab0AN2k"
      },
      "execution_count": 39,
      "outputs": []
    },
    {
      "cell_type": "code",
      "source": [
        "print(color)\n"
      ],
      "metadata": {
        "colab": {
          "base_uri": "https://localhost:8080/"
        },
        "id": "_fO-dxHNAOuT",
        "outputId": "5fde9228-be97-48e6-fdb5-50eec9f8757a"
      },
      "execution_count": 40,
      "outputs": [
        {
          "output_type": "stream",
          "name": "stdout",
          "text": [
            "[120, 32, 136]\n"
          ]
        }
      ]
    },
    {
      "cell_type": "code",
      "source": [
        "def name_to_color(name):\n",
        "\n",
        "    color = [(ord(c.lower())-97)*8 for c in name[:3]]\n",
        "    return color"
      ],
      "metadata": {
        "id": "u58GgvBLAS8y"
      },
      "execution_count": 41,
      "outputs": []
    },
    {
      "cell_type": "code",
      "source": [
        "if True in results:  \n",
        "            match = known_names[results.index(True)]\n",
        "            print(f' - {match} from {results}')\n",
        "\n",
        "            top_left = (face_location[3], face_location[0])\n",
        "            bottom_right = (face_location[1], face_location[2])\n",
        "\n",
        "            color = name_to_color(match)\n",
        "\n",
        "            cv2.rectangle(image, top_left, bottom_right, color, FRAME_THICKNESS)\n",
        "\n",
        "            top_left = (face_location[3], face_location[2])\n",
        "            bottom_right = (face_location[1], face_location[2] + 22)\n",
        "\n",
        "\n",
        "            cv2.rectangle(image, top_left, bottom_right, color, cv2.FILLED)\n",
        "\n",
        "\n",
        "            cv2.putText(image, match, (face_location[3] + 10, face_location[2] + 15), cv2.FONT_HERSHEY_SIMPLEX, 0.5, (200, 200, 200), FONT_THICKNESS)"
      ],
      "metadata": {
        "id": "ABesYmJ-ATs4"
      },
      "execution_count": 42,
      "outputs": []
    },
    {
      "cell_type": "code",
      "source": [
        "from google.colab.patches import cv2_imshow"
      ],
      "metadata": {
        "id": "iIRYtn2TA09_"
      },
      "execution_count": 46,
      "outputs": []
    },
    {
      "cell_type": "code",
      "source": [
        "cv2.imshow(filename, image)\n",
        "cv2.waitKey(0)\n",
        "cv2.destroyWindow(filename)"
      ],
      "metadata": {
        "id": "1mtjAsOsjbwf"
      },
      "execution_count": null,
      "outputs": []
    }
  ]
}